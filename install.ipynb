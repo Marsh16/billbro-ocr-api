{
 "cells": [
  {
   "cell_type": "code",
   "execution_count": 1,
   "metadata": {},
   "outputs": [
    {
     "name": "stdout",
     "output_type": "stream",
     "text": [
      "Requirement already satisfied: flask_limiter in /opt/anaconda3/lib/python3.12/site-packages (3.10.1)\n",
      "Requirement already satisfied: limits>=3.13 in /opt/anaconda3/lib/python3.12/site-packages (from flask_limiter) (4.0.1)\n",
      "Requirement already satisfied: Flask>=2 in /opt/anaconda3/lib/python3.12/site-packages (from flask_limiter) (3.0.3)\n",
      "Requirement already satisfied: ordered-set<5,>4 in /opt/anaconda3/lib/python3.12/site-packages (from flask_limiter) (4.1.0)\n",
      "Requirement already satisfied: rich<14,>=12 in /opt/anaconda3/lib/python3.12/site-packages (from flask_limiter) (13.7.1)\n",
      "Requirement already satisfied: typing-extensions>=4 in /opt/anaconda3/lib/python3.12/site-packages (from flask_limiter) (4.12.2)\n",
      "Requirement already satisfied: Werkzeug>=3.0.0 in /opt/anaconda3/lib/python3.12/site-packages (from Flask>=2->flask_limiter) (3.0.3)\n",
      "Requirement already satisfied: Jinja2>=3.1.2 in /opt/anaconda3/lib/python3.12/site-packages (from Flask>=2->flask_limiter) (3.1.4)\n",
      "Requirement already satisfied: itsdangerous>=2.1.2 in /opt/anaconda3/lib/python3.12/site-packages (from Flask>=2->flask_limiter) (2.2.0)\n",
      "Requirement already satisfied: click>=8.1.3 in /opt/anaconda3/lib/python3.12/site-packages (from Flask>=2->flask_limiter) (8.1.7)\n",
      "Requirement already satisfied: blinker>=1.6.2 in /opt/anaconda3/lib/python3.12/site-packages (from Flask>=2->flask_limiter) (1.6.2)\n",
      "Requirement already satisfied: deprecated>=1.2 in /opt/anaconda3/lib/python3.12/site-packages (from limits>=3.13->flask_limiter) (1.2.15)\n",
      "Requirement already satisfied: packaging<25,>=21 in /opt/anaconda3/lib/python3.12/site-packages (from limits>=3.13->flask_limiter) (24.1)\n",
      "Requirement already satisfied: markdown-it-py>=2.2.0 in /opt/anaconda3/lib/python3.12/site-packages (from rich<14,>=12->flask_limiter) (2.2.0)\n",
      "Requirement already satisfied: pygments<3.0.0,>=2.13.0 in /opt/anaconda3/lib/python3.12/site-packages (from rich<14,>=12->flask_limiter) (2.15.1)\n",
      "Requirement already satisfied: wrapt<2,>=1.10 in /opt/anaconda3/lib/python3.12/site-packages (from deprecated>=1.2->limits>=3.13->flask_limiter) (1.14.1)\n",
      "Requirement already satisfied: MarkupSafe>=2.0 in /opt/anaconda3/lib/python3.12/site-packages (from Jinja2>=3.1.2->Flask>=2->flask_limiter) (2.1.3)\n",
      "Requirement already satisfied: mdurl~=0.1 in /opt/anaconda3/lib/python3.12/site-packages (from markdown-it-py>=2.2.0->rich<14,>=12->flask_limiter) (0.1.0)\n"
     ]
    }
   ],
   "source": [
    "!pip install flask_limiter"
   ]
  }
 ],
 "metadata": {
  "kernelspec": {
   "display_name": "base",
   "language": "python",
   "name": "python3"
  },
  "language_info": {
   "codemirror_mode": {
    "name": "ipython",
    "version": 3
   },
   "file_extension": ".py",
   "mimetype": "text/x-python",
   "name": "python",
   "nbconvert_exporter": "python",
   "pygments_lexer": "ipython3",
   "version": "3.12.7"
  }
 },
 "nbformat": 4,
 "nbformat_minor": 2
}
